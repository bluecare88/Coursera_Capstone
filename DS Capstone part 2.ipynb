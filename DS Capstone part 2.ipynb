{
    "cells": [
        {
            "cell_type": "markdown",
            "metadata": {},
            "source": "# Early Childhood Care Selection in the Grand Toronto Area\n\n## Contents\n* [Introduction](#introduction)\n* [Business problem](#businessproblem)\n* [Data](#data)\n* [Methodology](#methodology)\n* [Analysis](#analysis)\n* [Results and Discussion](#results)\n* [Conclusion](#conclusion)\n\n## Introduction\nThis project was motivated by my personal struggles as a young working mother looking for child care options for her one year old in a pre-pandemic world.\n\nThe purpose of the project is to help young families moving into York Region of Ontario, Ontario in exploring and much better informed options for early learning and chicld care. My project aims to create an analysys of comprehensive features around child care for families coming to the region from within or outside Canada, in order to help them make smart and efficient decision on what's best for them and their young family members.\n\n## Business problem\nAs I mentioned above, the reasoning behind me choosing this subject to explore and analyze was my personal experience. My husband and I deceided to move to Markham, Ontario from another city in the province while I was still pregnant so that we have time- pre baby- to find the necessary facilities, services, amneties and know our soroundings before the the baby comes. As we are working parents with no grandparents to pitch in, we knew that once my maternity leave ended we had to have a plan in terms of child care. We found it insanely difficult to find and choose, more so that thh waiting lists are very long.\n\nWhile York Region, of which the city of Markham is part, has a very comprehensive website and resource list, everything is very static and time consuming and quite some extensive analysis had to be done to find a list of child care options for our child in a prepandemic world. It was very hard to find information on daycare and other child care options in the city in such a way that it makes the decision process easy, efficent and result driven.\n\nThe main aim of my project analysis is to help the decision makin process less stressful and easier by providing a comprehensive, easy to follow list of child care options in Markham Ontario, that can be used by new families either already living in the city or just moving in the city. The end result will need to have details on learning and care options, ratings, locations, reviews, programs included and fees, other amneties and dependencies."
        },
        {
            "cell_type": "markdown",
            "metadata": {},
            "source": "# Data\n\nBased on the business problem this project will use data from various sources in order to achieve it's desired result. The main data sources will be:\n\n* Wikipedia list of Postal Codes in Canada, in order to identify cites and neighbourhoods in the Grand Toronto Area https://en.wikipedia.org/wiki/List_of_postal_codes_of_Canada:_M\n* Geographical coordinates from http://cocl.us/Geospatial_data in order to find specific location of each city and neighbourhood\n* Foursquare API for data on child care locations and user reviews\n* City data on child care options : https://insights-york.opendata.arcgis.com/datasets/childrens-service/data \n* Provincial data on child care options in the province of Ontario : https://data.ontario.ca/dataset/licensed-child-care-facilities-in-ontario\n\nSecondary data sets will be used for analysis purposes or partial scrapping where other data is not available. For example: \n* National data on child care options: https://www150.statcan.gc.ca/n1/pub/11f0019m/11f0019m2006284-eng.pdf\n"
        },
        {
            "cell_type": "markdown",
            "metadata": {},
            "source": "## Getting Data"
        },
        {
            "cell_type": "code",
            "execution_count": 26,
            "metadata": {},
            "outputs": [
                {
                    "name": "stdout",
                    "output_type": "stream",
                    "text": "Requirement already satisfied: folium in /opt/conda/envs/Python36/lib/python3.6/site-packages (0.11.0)\nRequirement already satisfied: requests in /opt/conda/envs/Python36/lib/python3.6/site-packages (from folium) (2.21.0)\nRequirement already satisfied: branca>=0.3.0 in /opt/conda/envs/Python36/lib/python3.6/site-packages (from folium) (0.4.1)\nRequirement already satisfied: numpy in /opt/conda/envs/Python36/lib/python3.6/site-packages (from folium) (1.15.4)\nRequirement already satisfied: jinja2>=2.9 in /opt/conda/envs/Python36/lib/python3.6/site-packages (from folium) (2.10)\nRequirement already satisfied: urllib3<1.25,>=1.21.1 in /opt/conda/envs/Python36/lib/python3.6/site-packages (from requests->folium) (1.24.1)\nRequirement already satisfied: chardet<3.1.0,>=3.0.2 in /opt/conda/envs/Python36/lib/python3.6/site-packages (from requests->folium) (3.0.4)\nRequirement already satisfied: idna<2.9,>=2.5 in /opt/conda/envs/Python36/lib/python3.6/site-packages (from requests->folium) (2.8)\nRequirement already satisfied: certifi>=2017.4.17 in /opt/conda/envs/Python36/lib/python3.6/site-packages (from requests->folium) (2020.6.20)\nRequirement already satisfied: MarkupSafe>=0.23 in /opt/conda/envs/Python36/lib/python3.6/site-packages (from jinja2>=2.9->folium) (1.1.0)\nRequirement already satisfied: geopy in /opt/conda/envs/Python36/lib/python3.6/site-packages (1.18.1)\nRequirement already satisfied: geographiclib<2,>=1.49 in /opt/conda/envs/Python36/lib/python3.6/site-packages (from geopy) (1.49)\nLibraries imported.\n"
                }
            ],
            "source": "# First we import all necessary dependencies for the project\nimport numpy as np # library to handle data in a vectorized manner\nimport pandas as pd # library for data analsysis\npd.set_option('display.max_columns', None)\npd.set_option('display.max_rows', None)\nimport json # library to handle JSON files\nimport requests # library to handle requests\nfrom pandas.io.json import json_normalize # tranform JSON file into a pandas dataframe\n\n# Matplotlib and associated plotting modules\nimport matplotlib.pyplot as plt\nimport matplotlib.cm as cm\nimport matplotlib.colors as colors\n\n!pip install folium\nimport folium # map rendering library\nimport random\n!pip install geopy\nfrom geopy.geocoders import Nominatim # module to convert an address into latitude and longitude values\n\n# libraries for displaying images\nfrom IPython.display import Image \nfrom IPython.core.display import HTML \n\nfrom bs4 import BeautifulSoup\nimport csv\n\nprint('Libraries imported.')"
        },
        {
            "cell_type": "code",
            "execution_count": 30,
            "metadata": {},
            "outputs": [
                {
                    "data": {
                        "text/html": "<div>\n<style scoped>\n    .dataframe tbody tr th:only-of-type {\n        vertical-align: middle;\n    }\n\n    .dataframe tbody tr th {\n        vertical-align: top;\n    }\n\n    .dataframe thead th {\n        text-align: right;\n    }\n</style>\n<table border=\"1\" class=\"dataframe\">\n  <thead>\n    <tr style=\"text-align: right;\">\n      <th></th>\n      <th>Postal Code</th>\n      <th>Borough</th>\n      <th>Neighbourhood</th>\n    </tr>\n  </thead>\n  <tbody>\n    <tr>\n      <th>0</th>\n      <td>M1A</td>\n      <td>Not assigned</td>\n      <td>Not assigned</td>\n    </tr>\n    <tr>\n      <th>1</th>\n      <td>M2A</td>\n      <td>Not assigned</td>\n      <td>Not assigned</td>\n    </tr>\n    <tr>\n      <th>2</th>\n      <td>M3A</td>\n      <td>North York</td>\n      <td>Parkwoods</td>\n    </tr>\n    <tr>\n      <th>3</th>\n      <td>M4A</td>\n      <td>North York</td>\n      <td>Victoria Village</td>\n    </tr>\n    <tr>\n      <th>4</th>\n      <td>M5A</td>\n      <td>Downtown Toronto</td>\n      <td>Regent Park, Harbourfront</td>\n    </tr>\n  </tbody>\n</table>\n</div>",
                        "text/plain": "  Postal Code           Borough              Neighbourhood\n0         M1A      Not assigned               Not assigned\n1         M2A      Not assigned               Not assigned\n2         M3A        North York                  Parkwoods\n3         M4A        North York           Victoria Village\n4         M5A  Downtown Toronto  Regent Park, Harbourfront"
                    },
                    "execution_count": 30,
                    "metadata": {},
                    "output_type": "execute_result"
                }
            ],
            "source": "url='https://en.wikipedia.org/wiki/List_of_postal_codes_of_Canada:_M'\nresponse = requests.get(url)\n\n#Process and convert html data\ndata = response.text\nsoup = BeautifulSoup(data,'html.parser')\ntable_wikipedia=soup.find('table')\n\n#Create the pandas dataframe\ngtaraw_df = pd.read_html(str(table_wikipedia))[0]\ngtaraw_df.head()"
        },
        {
            "cell_type": "code",
            "execution_count": 31,
            "metadata": {},
            "outputs": [
                {
                    "data": {
                        "text/html": "<div>\n<style scoped>\n    .dataframe tbody tr th:only-of-type {\n        vertical-align: middle;\n    }\n\n    .dataframe tbody tr th {\n        vertical-align: top;\n    }\n\n    .dataframe thead th {\n        text-align: right;\n    }\n</style>\n<table border=\"1\" class=\"dataframe\">\n  <thead>\n    <tr style=\"text-align: right;\">\n      <th></th>\n      <th>PostalCode</th>\n      <th>Borough</th>\n      <th>Neighborhood</th>\n    </tr>\n  </thead>\n  <tbody>\n    <tr>\n      <th>1</th>\n      <td>M2A</td>\n      <td>Not assigned</td>\n      <td>Not assigned</td>\n    </tr>\n    <tr>\n      <th>2</th>\n      <td>M3A</td>\n      <td>North York</td>\n      <td>Parkwoods</td>\n    </tr>\n    <tr>\n      <th>3</th>\n      <td>M4A</td>\n      <td>North York</td>\n      <td>Victoria Village</td>\n    </tr>\n    <tr>\n      <th>4</th>\n      <td>M5A</td>\n      <td>Downtown Toronto</td>\n      <td>Regent Park, Harbourfront</td>\n    </tr>\n    <tr>\n      <th>5</th>\n      <td>M6A</td>\n      <td>North York</td>\n      <td>Lawrence Manor, Lawrence Heights</td>\n    </tr>\n  </tbody>\n</table>\n</div>",
                        "text/plain": "  PostalCode           Borough                      Neighborhood\n1        M2A      Not assigned                      Not assigned\n2        M3A        North York                         Parkwoods\n3        M4A        North York                  Victoria Village\n4        M5A  Downtown Toronto         Regent Park, Harbourfront\n5        M6A        North York  Lawrence Manor, Lawrence Heights"
                    },
                    "execution_count": 31,
                    "metadata": {},
                    "output_type": "execute_result"
                }
            ],
            "source": "# No need for the first column hence we will drop it\n# Drop the first column\ngtaraw_df.drop(0,inplace=True)\n#Rename the columns names\ngtaraw_df.columns = ['PostalCode','Borough','Neighborhood']\ngtaraw_df.head()"
        },
        {
            "cell_type": "code",
            "execution_count": 32,
            "metadata": {},
            "outputs": [
                {
                    "data": {
                        "text/html": "<div>\n<style scoped>\n    .dataframe tbody tr th:only-of-type {\n        vertical-align: middle;\n    }\n\n    .dataframe tbody tr th {\n        vertical-align: top;\n    }\n\n    .dataframe thead th {\n        text-align: right;\n    }\n</style>\n<table border=\"1\" class=\"dataframe\">\n  <thead>\n    <tr style=\"text-align: right;\">\n      <th></th>\n      <th>index</th>\n      <th>PostalCode</th>\n      <th>Borough</th>\n      <th>Neighborhood</th>\n    </tr>\n  </thead>\n  <tbody>\n    <tr>\n      <th>0</th>\n      <td>2</td>\n      <td>M3A</td>\n      <td>North York</td>\n      <td>Parkwoods</td>\n    </tr>\n    <tr>\n      <th>1</th>\n      <td>3</td>\n      <td>M4A</td>\n      <td>North York</td>\n      <td>Victoria Village</td>\n    </tr>\n    <tr>\n      <th>2</th>\n      <td>4</td>\n      <td>M5A</td>\n      <td>Downtown Toronto</td>\n      <td>Regent Park, Harbourfront</td>\n    </tr>\n    <tr>\n      <th>3</th>\n      <td>5</td>\n      <td>M6A</td>\n      <td>North York</td>\n      <td>Lawrence Manor, Lawrence Heights</td>\n    </tr>\n    <tr>\n      <th>4</th>\n      <td>6</td>\n      <td>M7A</td>\n      <td>Downtown Toronto</td>\n      <td>Queen's Park, Ontario Provincial Government</td>\n    </tr>\n  </tbody>\n</table>\n</div>",
                        "text/plain": "   index PostalCode           Borough  \\\n0      2        M3A        North York   \n1      3        M4A        North York   \n2      4        M5A  Downtown Toronto   \n3      5        M6A        North York   \n4      6        M7A  Downtown Toronto   \n\n                                  Neighborhood  \n0                                    Parkwoods  \n1                             Victoria Village  \n2                    Regent Park, Harbourfront  \n3             Lawrence Manor, Lawrence Heights  \n4  Queen's Park, Ontario Provincial Government  "
                    },
                    "execution_count": 32,
                    "metadata": {},
                    "output_type": "execute_result"
                }
            ],
            "source": "# Let's remove all 'Not assigned' values in Borough as they are not useful\ngtaraw_df2=gtaraw_df[gtaraw_df['Borough'].str.contains(\"Not assigned\") == False].reset_index()\ngtaraw_df2.head()"
        },
        {
            "cell_type": "code",
            "execution_count": 33,
            "metadata": {},
            "outputs": [
                {
                    "data": {
                        "text/html": "<div>\n<style scoped>\n    .dataframe tbody tr th:only-of-type {\n        vertical-align: middle;\n    }\n\n    .dataframe tbody tr th {\n        vertical-align: top;\n    }\n\n    .dataframe thead th {\n        text-align: right;\n    }\n</style>\n<table border=\"1\" class=\"dataframe\">\n  <thead>\n    <tr style=\"text-align: right;\">\n      <th></th>\n      <th>PostalCode</th>\n      <th>Borough</th>\n      <th>Neighborhood</th>\n    </tr>\n  </thead>\n  <tbody>\n    <tr>\n      <th>0</th>\n      <td>M1B</td>\n      <td>Scarborough</td>\n      <td>Malvern, Rouge</td>\n    </tr>\n    <tr>\n      <th>1</th>\n      <td>M1C</td>\n      <td>Scarborough</td>\n      <td>Rouge Hill, Port Union, Highland Creek</td>\n    </tr>\n    <tr>\n      <th>2</th>\n      <td>M1E</td>\n      <td>Scarborough</td>\n      <td>Guildwood, Morningside, West Hill</td>\n    </tr>\n    <tr>\n      <th>3</th>\n      <td>M1G</td>\n      <td>Scarborough</td>\n      <td>Woburn</td>\n    </tr>\n    <tr>\n      <th>4</th>\n      <td>M1H</td>\n      <td>Scarborough</td>\n      <td>Cedarbrae</td>\n    </tr>\n  </tbody>\n</table>\n</div>",
                        "text/plain": "  PostalCode      Borough                            Neighborhood\n0        M1B  Scarborough                          Malvern, Rouge\n1        M1C  Scarborough  Rouge Hill, Port Union, Highland Creek\n2        M1E  Scarborough       Guildwood, Morningside, West Hill\n3        M1G  Scarborough                                  Woburn\n4        M1H  Scarborough                               Cedarbrae"
                    },
                    "execution_count": 33,
                    "metadata": {},
                    "output_type": "execute_result"
                }
            ],
            "source": "# We'll manipulate the data a bit more to avoid unnecessary redundancy and weherever Borough and Neighnorhood have the same PostalCode, I'll merge in one row\n# Drop the first column\ngtaraw_df2.drop(0,inplace=True)\ngtaraw_df3= gtaraw_df2.groupby(['PostalCode', 'Borough'])['Neighborhood'].apply(', '.join).reset_index()\ngtaraw_df3.head()"
        },
        {
            "cell_type": "code",
            "execution_count": 37,
            "metadata": {},
            "outputs": [
                {
                    "data": {
                        "text/html": "<div>\n<style scoped>\n    .dataframe tbody tr th:only-of-type {\n        vertical-align: middle;\n    }\n\n    .dataframe tbody tr th {\n        vertical-align: top;\n    }\n\n    .dataframe thead th {\n        text-align: right;\n    }\n</style>\n<table border=\"1\" class=\"dataframe\">\n  <thead>\n    <tr style=\"text-align: right;\">\n      <th></th>\n      <th>index</th>\n      <th>PostalCode</th>\n      <th>Borough</th>\n      <th>Neighborhood</th>\n    </tr>\n  </thead>\n  <tbody>\n    <tr>\n      <th>0</th>\n      <td>0</td>\n      <td>M1B</td>\n      <td>Scarborough</td>\n      <td>Malvern, Rouge</td>\n    </tr>\n    <tr>\n      <th>1</th>\n      <td>1</td>\n      <td>M1C</td>\n      <td>Scarborough</td>\n      <td>Rouge Hill, Port Union, Highland Creek</td>\n    </tr>\n    <tr>\n      <th>2</th>\n      <td>2</td>\n      <td>M1E</td>\n      <td>Scarborough</td>\n      <td>Guildwood, Morningside, West Hill</td>\n    </tr>\n    <tr>\n      <th>3</th>\n      <td>3</td>\n      <td>M1G</td>\n      <td>Scarborough</td>\n      <td>Woburn</td>\n    </tr>\n    <tr>\n      <th>4</th>\n      <td>4</td>\n      <td>M1H</td>\n      <td>Scarborough</td>\n      <td>Cedarbrae</td>\n    </tr>\n  </tbody>\n</table>\n</div>",
                        "text/plain": "   index PostalCode      Borough                            Neighborhood\n0      0        M1B  Scarborough                          Malvern, Rouge\n1      1        M1C  Scarborough  Rouge Hill, Port Union, Highland Creek\n2      2        M1E  Scarborough       Guildwood, Morningside, West Hill\n3      3        M1G  Scarborough                                  Woburn\n4      4        M1H  Scarborough                               Cedarbrae"
                    },
                    "execution_count": 37,
                    "metadata": {},
                    "output_type": "execute_result"
                }
            ],
            "source": "# Let's remove all 'Not assigned' values in Borough as they are not useful\ngtaraw_df3=gtaraw_df3[gtaraw_df3['Borough'].str.contains(\"Not assigned\") == False].reset_index()\ngtaraw_df3.head()"
        },
        {
            "cell_type": "code",
            "execution_count": 38,
            "metadata": {},
            "outputs": [
                {
                    "data": {
                        "text/html": "<div>\n<style scoped>\n    .dataframe tbody tr th:only-of-type {\n        vertical-align: middle;\n    }\n\n    .dataframe tbody tr th {\n        vertical-align: top;\n    }\n\n    .dataframe thead th {\n        text-align: right;\n    }\n</style>\n<table border=\"1\" class=\"dataframe\">\n  <thead>\n    <tr style=\"text-align: right;\">\n      <th></th>\n      <th>PostalCode</th>\n      <th>Borough</th>\n      <th>Neighborhood</th>\n    </tr>\n  </thead>\n  <tbody>\n    <tr>\n      <th>0</th>\n      <td>M1B</td>\n      <td>Scarborough</td>\n      <td>Malvern, Rouge</td>\n    </tr>\n    <tr>\n      <th>1</th>\n      <td>M1C</td>\n      <td>Scarborough</td>\n      <td>Rouge Hill, Port Union, Highland Creek</td>\n    </tr>\n    <tr>\n      <th>2</th>\n      <td>M1E</td>\n      <td>Scarborough</td>\n      <td>Guildwood, Morningside, West Hill</td>\n    </tr>\n    <tr>\n      <th>3</th>\n      <td>M1G</td>\n      <td>Scarborough</td>\n      <td>Woburn</td>\n    </tr>\n    <tr>\n      <th>4</th>\n      <td>M1H</td>\n      <td>Scarborough</td>\n      <td>Cedarbrae</td>\n    </tr>\n  </tbody>\n</table>\n</div>",
                        "text/plain": "  PostalCode      Borough                            Neighborhood\n0        M1B  Scarborough                          Malvern, Rouge\n1        M1C  Scarborough  Rouge Hill, Port Union, Highland Creek\n2        M1E  Scarborough       Guildwood, Morningside, West Hill\n3        M1G  Scarborough                                  Woburn\n4        M1H  Scarborough                               Cedarbrae"
                    },
                    "execution_count": 38,
                    "metadata": {},
                    "output_type": "execute_result"
                }
            ],
            "source": "gtaraw_df3.drop(gtaraw_df3.columns[0], axis=1, inplace=True)\ngtaraw_df3.head()"
        },
        {
            "cell_type": "code",
            "execution_count": 39,
            "metadata": {},
            "outputs": [
                {
                    "data": {
                        "text/plain": "(102, 3)"
                    },
                    "execution_count": 39,
                    "metadata": {},
                    "output_type": "execute_result"
                }
            ],
            "source": "gtaraw_df3.shape"
        },
        {
            "cell_type": "code",
            "execution_count": 40,
            "metadata": {},
            "outputs": [
                {
                    "name": "stdout",
                    "output_type": "stream",
                    "text": "First data Set from WIkipedia saved\n"
                }
            ],
            "source": "gtaraw_df3.to_csv('GTA_RAW.csv')\nprint('First data Set from WIkipedia saved')"
        },
        {
            "cell_type": "markdown",
            "metadata": {},
            "source": "### Getting location data"
        },
        {
            "cell_type": "code",
            "execution_count": 41,
            "metadata": {},
            "outputs": [
                {
                    "data": {
                        "text/html": "<div>\n<style scoped>\n    .dataframe tbody tr th:only-of-type {\n        vertical-align: middle;\n    }\n\n    .dataframe tbody tr th {\n        vertical-align: top;\n    }\n\n    .dataframe thead th {\n        text-align: right;\n    }\n</style>\n<table border=\"1\" class=\"dataframe\">\n  <thead>\n    <tr style=\"text-align: right;\">\n      <th></th>\n      <th>Postal Code</th>\n      <th>Latitude</th>\n      <th>Longitude</th>\n    </tr>\n  </thead>\n  <tbody>\n    <tr>\n      <th>0</th>\n      <td>M1B</td>\n      <td>43.806686</td>\n      <td>-79.194353</td>\n    </tr>\n    <tr>\n      <th>1</th>\n      <td>M1C</td>\n      <td>43.784535</td>\n      <td>-79.160497</td>\n    </tr>\n    <tr>\n      <th>2</th>\n      <td>M1E</td>\n      <td>43.763573</td>\n      <td>-79.188711</td>\n    </tr>\n    <tr>\n      <th>3</th>\n      <td>M1G</td>\n      <td>43.770992</td>\n      <td>-79.216917</td>\n    </tr>\n    <tr>\n      <th>4</th>\n      <td>M1H</td>\n      <td>43.773136</td>\n      <td>-79.239476</td>\n    </tr>\n  </tbody>\n</table>\n</div>",
                        "text/plain": "  Postal Code   Latitude  Longitude\n0         M1B  43.806686 -79.194353\n1         M1C  43.784535 -79.160497\n2         M1E  43.763573 -79.188711\n3         M1G  43.770992 -79.216917\n4         M1H  43.773136 -79.239476"
                    },
                    "execution_count": 41,
                    "metadata": {},
                    "output_type": "execute_result"
                }
            ],
            "source": "# I'll get the data to create our data frame by leveraging the link provided in the instructions\ngeolocation_df=pd.read_csv('http://cocl.us/Geospatial_data')\ngeolocation_df.head()"
        },
        {
            "cell_type": "code",
            "execution_count": 42,
            "metadata": {},
            "outputs": [
                {
                    "data": {
                        "text/html": "<div>\n<style scoped>\n    .dataframe tbody tr th:only-of-type {\n        vertical-align: middle;\n    }\n\n    .dataframe tbody tr th {\n        vertical-align: top;\n    }\n\n    .dataframe thead th {\n        text-align: right;\n    }\n</style>\n<table border=\"1\" class=\"dataframe\">\n  <thead>\n    <tr style=\"text-align: right;\">\n      <th></th>\n      <th>PostalCode</th>\n      <th>Latitude</th>\n      <th>Longitude</th>\n    </tr>\n  </thead>\n  <tbody>\n    <tr>\n      <th>0</th>\n      <td>M1B</td>\n      <td>43.806686</td>\n      <td>-79.194353</td>\n    </tr>\n    <tr>\n      <th>1</th>\n      <td>M1C</td>\n      <td>43.784535</td>\n      <td>-79.160497</td>\n    </tr>\n    <tr>\n      <th>2</th>\n      <td>M1E</td>\n      <td>43.763573</td>\n      <td>-79.188711</td>\n    </tr>\n    <tr>\n      <th>3</th>\n      <td>M1G</td>\n      <td>43.770992</td>\n      <td>-79.216917</td>\n    </tr>\n    <tr>\n      <th>4</th>\n      <td>M1H</td>\n      <td>43.773136</td>\n      <td>-79.239476</td>\n    </tr>\n  </tbody>\n</table>\n</div>",
                        "text/plain": "  PostalCode   Latitude  Longitude\n0        M1B  43.806686 -79.194353\n1        M1C  43.784535 -79.160497\n2        M1E  43.763573 -79.188711\n3        M1G  43.770992 -79.216917\n4        M1H  43.773136 -79.239476"
                    },
                    "execution_count": 42,
                    "metadata": {},
                    "output_type": "execute_result"
                }
            ],
            "source": "# I'll adjust the Postal Code name to match the name from our data frame from step 1\ngeolocation_df = geolocation_df.rename(columns = {'Postal Code':'PostalCode'}) \ngeolocation_df.head()"
        },
        {
            "cell_type": "code",
            "execution_count": 43,
            "metadata": {},
            "outputs": [
                {
                    "data": {
                        "text/html": "<div>\n<style scoped>\n    .dataframe tbody tr th:only-of-type {\n        vertical-align: middle;\n    }\n\n    .dataframe tbody tr th {\n        vertical-align: top;\n    }\n\n    .dataframe thead th {\n        text-align: right;\n    }\n</style>\n<table border=\"1\" class=\"dataframe\">\n  <thead>\n    <tr style=\"text-align: right;\">\n      <th></th>\n      <th>Unnamed: 0</th>\n      <th>PostalCode</th>\n      <th>Borough</th>\n      <th>Neighborhood</th>\n    </tr>\n  </thead>\n  <tbody>\n    <tr>\n      <th>0</th>\n      <td>0</td>\n      <td>M1B</td>\n      <td>Scarborough</td>\n      <td>Malvern, Rouge</td>\n    </tr>\n    <tr>\n      <th>1</th>\n      <td>1</td>\n      <td>M1C</td>\n      <td>Scarborough</td>\n      <td>Rouge Hill, Port Union, Highland Creek</td>\n    </tr>\n    <tr>\n      <th>2</th>\n      <td>2</td>\n      <td>M1E</td>\n      <td>Scarborough</td>\n      <td>Guildwood, Morningside, West Hill</td>\n    </tr>\n    <tr>\n      <th>3</th>\n      <td>3</td>\n      <td>M1G</td>\n      <td>Scarborough</td>\n      <td>Woburn</td>\n    </tr>\n    <tr>\n      <th>4</th>\n      <td>4</td>\n      <td>M1H</td>\n      <td>Scarborough</td>\n      <td>Cedarbrae</td>\n    </tr>\n  </tbody>\n</table>\n</div>",
                        "text/plain": "   Unnamed: 0 PostalCode      Borough                            Neighborhood\n0           0        M1B  Scarborough                          Malvern, Rouge\n1           1        M1C  Scarborough  Rouge Hill, Port Union, Highland Creek\n2           2        M1E  Scarborough       Guildwood, Morningside, West Hill\n3           3        M1G  Scarborough                                  Woburn\n4           4        M1H  Scarborough                               Cedarbrae"
                    },
                    "execution_count": 43,
                    "metadata": {},
                    "output_type": "execute_result"
                }
            ],
            "source": "# In order to merge the 2 datasets I'll load the first one\ngtaraw_df3 = pd.read_csv('GTA_RAW.csv')\ngtaraw_df3.head()"
        },
        {
            "cell_type": "code",
            "execution_count": 44,
            "metadata": {},
            "outputs": [
                {
                    "data": {
                        "text/html": "<div>\n<style scoped>\n    .dataframe tbody tr th:only-of-type {\n        vertical-align: middle;\n    }\n\n    .dataframe tbody tr th {\n        vertical-align: top;\n    }\n\n    .dataframe thead th {\n        text-align: right;\n    }\n</style>\n<table border=\"1\" class=\"dataframe\">\n  <thead>\n    <tr style=\"text-align: right;\">\n      <th></th>\n      <th>PostalCode</th>\n      <th>Borough</th>\n      <th>Neighborhood</th>\n    </tr>\n  </thead>\n  <tbody>\n    <tr>\n      <th>0</th>\n      <td>M1B</td>\n      <td>Scarborough</td>\n      <td>Malvern, Rouge</td>\n    </tr>\n    <tr>\n      <th>1</th>\n      <td>M1C</td>\n      <td>Scarborough</td>\n      <td>Rouge Hill, Port Union, Highland Creek</td>\n    </tr>\n    <tr>\n      <th>2</th>\n      <td>M1E</td>\n      <td>Scarborough</td>\n      <td>Guildwood, Morningside, West Hill</td>\n    </tr>\n    <tr>\n      <th>3</th>\n      <td>M1G</td>\n      <td>Scarborough</td>\n      <td>Woburn</td>\n    </tr>\n    <tr>\n      <th>4</th>\n      <td>M1H</td>\n      <td>Scarborough</td>\n      <td>Cedarbrae</td>\n    </tr>\n  </tbody>\n</table>\n</div>",
                        "text/plain": "  PostalCode      Borough                            Neighborhood\n0        M1B  Scarborough                          Malvern, Rouge\n1        M1C  Scarborough  Rouge Hill, Port Union, Highland Creek\n2        M1E  Scarborough       Guildwood, Morningside, West Hill\n3        M1G  Scarborough                                  Woburn\n4        M1H  Scarborough                               Cedarbrae"
                    },
                    "execution_count": 44,
                    "metadata": {},
                    "output_type": "execute_result"
                }
            ],
            "source": "gtaraw_df3.drop(gtaraw_df3.columns[0], axis=1, inplace=True)\ngtaraw_df3.head()"
        },
        {
            "cell_type": "code",
            "execution_count": 45,
            "metadata": {},
            "outputs": [
                {
                    "data": {
                        "text/html": "<div>\n<style scoped>\n    .dataframe tbody tr th:only-of-type {\n        vertical-align: middle;\n    }\n\n    .dataframe tbody tr th {\n        vertical-align: top;\n    }\n\n    .dataframe thead th {\n        text-align: right;\n    }\n</style>\n<table border=\"1\" class=\"dataframe\">\n  <thead>\n    <tr style=\"text-align: right;\">\n      <th></th>\n      <th>PostalCode</th>\n      <th>Borough</th>\n      <th>Neighborhood</th>\n      <th>Latitude</th>\n      <th>Longitude</th>\n    </tr>\n  </thead>\n  <tbody>\n    <tr>\n      <th>0</th>\n      <td>M1B</td>\n      <td>Scarborough</td>\n      <td>Malvern, Rouge</td>\n      <td>43.806686</td>\n      <td>-79.194353</td>\n    </tr>\n    <tr>\n      <th>1</th>\n      <td>M1C</td>\n      <td>Scarborough</td>\n      <td>Rouge Hill, Port Union, Highland Creek</td>\n      <td>43.784535</td>\n      <td>-79.160497</td>\n    </tr>\n    <tr>\n      <th>2</th>\n      <td>M1E</td>\n      <td>Scarborough</td>\n      <td>Guildwood, Morningside, West Hill</td>\n      <td>43.763573</td>\n      <td>-79.188711</td>\n    </tr>\n    <tr>\n      <th>3</th>\n      <td>M1G</td>\n      <td>Scarborough</td>\n      <td>Woburn</td>\n      <td>43.770992</td>\n      <td>-79.216917</td>\n    </tr>\n    <tr>\n      <th>4</th>\n      <td>M1H</td>\n      <td>Scarborough</td>\n      <td>Cedarbrae</td>\n      <td>43.773136</td>\n      <td>-79.239476</td>\n    </tr>\n  </tbody>\n</table>\n</div>",
                        "text/plain": "  PostalCode      Borough                            Neighborhood   Latitude  \\\n0        M1B  Scarborough                          Malvern, Rouge  43.806686   \n1        M1C  Scarborough  Rouge Hill, Port Union, Highland Creek  43.784535   \n2        M1E  Scarborough       Guildwood, Morningside, West Hill  43.763573   \n3        M1G  Scarborough                                  Woburn  43.770992   \n4        M1H  Scarborough                               Cedarbrae  43.773136   \n\n   Longitude  \n0 -79.194353  \n1 -79.160497  \n2 -79.188711  \n3 -79.216917  \n4 -79.239476  "
                    },
                    "execution_count": 45,
                    "metadata": {},
                    "output_type": "execute_result"
                }
            ],
            "source": "# Now we merge teh 2 datasets by PostalCode\ngtaraw_df3 = pd.merge(gtaraw_df3, geolocation_df, on = \"PostalCode\")\ngtaraw_df3.head()"
        },
        {
            "cell_type": "code",
            "execution_count": 46,
            "metadata": {},
            "outputs": [
                {
                    "name": "stdout",
                    "output_type": "stream",
                    "text": "Data set with geolocation data is now saved!\n"
                }
            ],
            "source": "#Save the new dataset\ngtaraw_df3.to_csv('GTA_RAW_GEO.csv', index=False)\nprint('Data set with geolocation data is now saved!')"
        },
        {
            "cell_type": "markdown",
            "metadata": {},
            "source": "#### Get data from York"
        },
        {
            "cell_type": "code",
            "execution_count": 55,
            "metadata": {},
            "outputs": [
                {
                    "data": {
                        "text/html": "<div>\n<style scoped>\n    .dataframe tbody tr th:only-of-type {\n        vertical-align: middle;\n    }\n\n    .dataframe tbody tr th {\n        vertical-align: top;\n    }\n\n    .dataframe thead th {\n        text-align: right;\n    }\n</style>\n<table border=\"1\" class=\"dataframe\">\n  <thead>\n    <tr style=\"text-align: right;\">\n      <th></th>\n      <th>Report Snapshot Date</th>\n      <th>Licensee Name</th>\n      <th>Program Type Desc</th>\n      <th>Region Display Name</th>\n      <th>CMSM DSSAB Name</th>\n      <th>Child Care Center Name</th>\n      <th>Licence Number</th>\n      <th>Program Option</th>\n      <th>Original Issue Date</th>\n      <th>Licence Status</th>\n      <th>Closure or Termination Date</th>\n      <th>Language of Service Desc</th>\n      <th>Street Number</th>\n      <th>Street Name</th>\n      <th>Street Type</th>\n      <th>City</th>\n      <th>Province</th>\n      <th>Postal Code</th>\n    </tr>\n  </thead>\n  <tbody>\n    <tr>\n      <th>0</th>\n      <td>2020-02-29</td>\n      <td>002350227 Ontario Inc. (Creative Minds Childre...</td>\n      <td>Child Care Centre</td>\n      <td>Southwest Region</td>\n      <td>City of Brantford</td>\n      <td>Creative Minds Children Services</td>\n      <td>0006463</td>\n      <td>Full Day(6 hours or more in a day)</td>\n      <td>2013-04-15</td>\n      <td>Inactive</td>\n      <td>NaT</td>\n      <td>English</td>\n      <td>61</td>\n      <td>Sherwood</td>\n      <td>Drive</td>\n      <td>Brantford</td>\n      <td>ON</td>\n      <td>N3T 1N7</td>\n    </tr>\n    <tr>\n      <th>1</th>\n      <td>2020-02-29</td>\n      <td>002350227 Ontario Inc. (Creative Minds Childre...</td>\n      <td>Child Care Centre</td>\n      <td>Southwest Region</td>\n      <td>City of Brantford</td>\n      <td>Creative Minds children services inc</td>\n      <td>56690</td>\n      <td>Full Day(6 hours or more in a day)</td>\n      <td>2016-11-24</td>\n      <td>Active</td>\n      <td>NaT</td>\n      <td>English</td>\n      <td>5</td>\n      <td>wade</td>\n      <td>Avenue</td>\n      <td>Brantford, On</td>\n      <td>ON</td>\n      <td>N3T 1W8</td>\n    </tr>\n    <tr>\n      <th>2</th>\n      <td>2020-02-29</td>\n      <td>002599266 Ontario INC.</td>\n      <td>Child Care Centre</td>\n      <td>Central East Region</td>\n      <td>Regional Municipality of Durham</td>\n      <td>Durham Montessori School and Daycare</td>\n      <td>57087</td>\n      <td>Full Day(6 hours or more in a day)</td>\n      <td>2018-01-08</td>\n      <td>Active</td>\n      <td>NaT</td>\n      <td>English</td>\n      <td>200</td>\n      <td>Byron</td>\n      <td>Street</td>\n      <td>Whitby</td>\n      <td>ON</td>\n      <td>L1N 4P6</td>\n    </tr>\n    <tr>\n      <th>3</th>\n      <td>2020-02-29</td>\n      <td>002633409 Ontario Corporation</td>\n      <td>Child Care Centre</td>\n      <td>West Region</td>\n      <td>Regional Municipality of Halton</td>\n      <td>Western Heights Montessori Academy</td>\n      <td>57245</td>\n      <td>Full Day(6 hours or more in a day)</td>\n      <td>2018-08-10</td>\n      <td>Active</td>\n      <td>NaT</td>\n      <td>English, French</td>\n      <td>186</td>\n      <td>Morrison Rd</td>\n      <td>NaN</td>\n      <td>Oakville</td>\n      <td>ON</td>\n      <td>L4J 4J4</td>\n    </tr>\n    <tr>\n      <th>4</th>\n      <td>2020-02-29</td>\n      <td>1.2.3. Look At Me Co-operative Nursery School ...</td>\n      <td>Child Care Centre</td>\n      <td>Southwest Region</td>\n      <td>City of Stratford</td>\n      <td>1.2.3. LOOK AT ME CO-OPERATIVE NURSERY SCHOOL</td>\n      <td>14085</td>\n      <td>Half day(Less than 6 hours in a day)</td>\n      <td>1991-12-05</td>\n      <td>Active</td>\n      <td>NaT</td>\n      <td>English</td>\n      <td>465</td>\n      <td>Maitland</td>\n      <td>Avenue</td>\n      <td>Listowel</td>\n      <td>ON</td>\n      <td>N4W 2M7</td>\n    </tr>\n  </tbody>\n</table>\n</div>",
                        "text/plain": "  Report Snapshot Date                                      Licensee Name  \\\n0           2020-02-29  002350227 Ontario Inc. (Creative Minds Childre...   \n1           2020-02-29  002350227 Ontario Inc. (Creative Minds Childre...   \n2           2020-02-29                             002599266 Ontario INC.   \n3           2020-02-29                      002633409 Ontario Corporation   \n4           2020-02-29  1.2.3. Look At Me Co-operative Nursery School ...   \n\n   Program Type Desc  Region Display Name                  CMSM DSSAB Name  \\\n0  Child Care Centre     Southwest Region                City of Brantford   \n1  Child Care Centre     Southwest Region                City of Brantford   \n2  Child Care Centre  Central East Region  Regional Municipality of Durham   \n3  Child Care Centre          West Region  Regional Municipality of Halton   \n4  Child Care Centre     Southwest Region                City of Stratford   \n\n                          Child Care Center Name Licence Number  \\\n0               Creative Minds Children Services        0006463   \n1           Creative Minds children services inc          56690   \n2           Durham Montessori School and Daycare          57087   \n3             Western Heights Montessori Academy          57245   \n4  1.2.3. LOOK AT ME CO-OPERATIVE NURSERY SCHOOL          14085   \n\n                         Program Option Original Issue Date Licence Status  \\\n0    Full Day(6 hours or more in a day)          2013-04-15       Inactive   \n1    Full Day(6 hours or more in a day)          2016-11-24         Active   \n2    Full Day(6 hours or more in a day)          2018-01-08         Active   \n3    Full Day(6 hours or more in a day)          2018-08-10         Active   \n4  Half day(Less than 6 hours in a day)          1991-12-05         Active   \n\n  Closure or Termination Date Language of Service Desc Street Number  \\\n0                         NaT                  English            61   \n1                         NaT                  English             5   \n2                         NaT                  English           200   \n3                         NaT          English, French           186   \n4                         NaT                  English           465   \n\n   Street Name Street Type           City Province Postal Code  \n0     Sherwood       Drive      Brantford       ON     N3T 1N7  \n1         wade      Avenue  Brantford, On       ON     N3T 1W8  \n2        Byron      Street         Whitby       ON     L1N 4P6  \n3  Morrison Rd         NaN       Oakville       ON     L4J 4J4  \n4     Maitland      Avenue       Listowel       ON     N4W 2M7  "
                    },
                    "execution_count": 55,
                    "metadata": {},
                    "output_type": "execute_result"
                }
            ],
            "source": "# I'll get the provincial child care data related to licensed child care facilities\nprov_df=pd.read_excel('https://data.ontario.ca/dataset/7efd8b4b-cc63-4337-a551-c940a346605b/resource/d2144297-fc60-4472-b954-e577d1f1a3fb/download/child_care_facilities_open_data_feb2020.xlsx')\nprov_df.head()"
        },
        {
            "cell_type": "markdown",
            "metadata": {},
            "source": "I'll drop a few columns as they are of no use to what the project is meant to achieve."
        },
        {
            "cell_type": "code",
            "execution_count": 56,
            "metadata": {},
            "outputs": [
                {
                    "data": {
                        "text/html": "<div>\n<style scoped>\n    .dataframe tbody tr th:only-of-type {\n        vertical-align: middle;\n    }\n\n    .dataframe tbody tr th {\n        vertical-align: top;\n    }\n\n    .dataframe thead th {\n        text-align: right;\n    }\n</style>\n<table border=\"1\" class=\"dataframe\">\n  <thead>\n    <tr style=\"text-align: right;\">\n      <th></th>\n      <th>Report Snapshot Date</th>\n      <th>Licensee Name</th>\n      <th>Program Type Desc</th>\n      <th>Region Display Name</th>\n      <th>CMSM DSSAB Name</th>\n      <th>Child Care Center Name</th>\n      <th>Licence Number</th>\n      <th>Program Option</th>\n      <th>Original Issue Date</th>\n      <th>Licence Status</th>\n      <th>Closure or Termination Date</th>\n      <th>Language of Service Desc</th>\n      <th>Street Number</th>\n      <th>Street Name</th>\n      <th>Street Type</th>\n      <th>City</th>\n      <th>Province</th>\n      <th>Postal Code</th>\n    </tr>\n  </thead>\n  <tbody>\n    <tr>\n      <th>0</th>\n      <td>2020-02-29</td>\n      <td>002350227 Ontario Inc. (Creative Minds Childre...</td>\n      <td>Child Care Centre</td>\n      <td>Southwest Region</td>\n      <td>City of Brantford</td>\n      <td>Creative Minds Children Services</td>\n      <td>0006463</td>\n      <td>Full Day(6 hours or more in a day)</td>\n      <td>2013-04-15</td>\n      <td>Inactive</td>\n      <td>NaT</td>\n      <td>English</td>\n      <td>61</td>\n      <td>Sherwood</td>\n      <td>Drive</td>\n      <td>Brantford</td>\n      <td>ON</td>\n      <td>N3T 1N7</td>\n    </tr>\n    <tr>\n      <th>1</th>\n      <td>2020-02-29</td>\n      <td>002350227 Ontario Inc. (Creative Minds Childre...</td>\n      <td>Child Care Centre</td>\n      <td>Southwest Region</td>\n      <td>City of Brantford</td>\n      <td>Creative Minds children services inc</td>\n      <td>56690</td>\n      <td>Full Day(6 hours or more in a day)</td>\n      <td>2016-11-24</td>\n      <td>Active</td>\n      <td>NaT</td>\n      <td>English</td>\n      <td>5</td>\n      <td>wade</td>\n      <td>Avenue</td>\n      <td>Brantford, On</td>\n      <td>ON</td>\n      <td>N3T 1W8</td>\n    </tr>\n    <tr>\n      <th>2</th>\n      <td>2020-02-29</td>\n      <td>002599266 Ontario INC.</td>\n      <td>Child Care Centre</td>\n      <td>Central East Region</td>\n      <td>Regional Municipality of Durham</td>\n      <td>Durham Montessori School and Daycare</td>\n      <td>57087</td>\n      <td>Full Day(6 hours or more in a day)</td>\n      <td>2018-01-08</td>\n      <td>Active</td>\n      <td>NaT</td>\n      <td>English</td>\n      <td>200</td>\n      <td>Byron</td>\n      <td>Street</td>\n      <td>Whitby</td>\n      <td>ON</td>\n      <td>L1N 4P6</td>\n    </tr>\n    <tr>\n      <th>3</th>\n      <td>2020-02-29</td>\n      <td>002633409 Ontario Corporation</td>\n      <td>Child Care Centre</td>\n      <td>West Region</td>\n      <td>Regional Municipality of Halton</td>\n      <td>Western Heights Montessori Academy</td>\n      <td>57245</td>\n      <td>Full Day(6 hours or more in a day)</td>\n      <td>2018-08-10</td>\n      <td>Active</td>\n      <td>NaT</td>\n      <td>English, French</td>\n      <td>186</td>\n      <td>Morrison Rd</td>\n      <td>NaN</td>\n      <td>Oakville</td>\n      <td>ON</td>\n      <td>L4J 4J4</td>\n    </tr>\n    <tr>\n      <th>4</th>\n      <td>2020-02-29</td>\n      <td>1.2.3. Look At Me Co-operative Nursery School ...</td>\n      <td>Child Care Centre</td>\n      <td>Southwest Region</td>\n      <td>City of Stratford</td>\n      <td>1.2.3. LOOK AT ME CO-OPERATIVE NURSERY SCHOOL</td>\n      <td>14085</td>\n      <td>Half day(Less than 6 hours in a day)</td>\n      <td>1991-12-05</td>\n      <td>Active</td>\n      <td>NaT</td>\n      <td>English</td>\n      <td>465</td>\n      <td>Maitland</td>\n      <td>Avenue</td>\n      <td>Listowel</td>\n      <td>ON</td>\n      <td>N4W 2M7</td>\n    </tr>\n  </tbody>\n</table>\n</div>",
                        "text/plain": "  Report Snapshot Date                                      Licensee Name  \\\n0           2020-02-29  002350227 Ontario Inc. (Creative Minds Childre...   \n1           2020-02-29  002350227 Ontario Inc. (Creative Minds Childre...   \n2           2020-02-29                             002599266 Ontario INC.   \n3           2020-02-29                      002633409 Ontario Corporation   \n4           2020-02-29  1.2.3. Look At Me Co-operative Nursery School ...   \n\n   Program Type Desc  Region Display Name                  CMSM DSSAB Name  \\\n0  Child Care Centre     Southwest Region                City of Brantford   \n1  Child Care Centre     Southwest Region                City of Brantford   \n2  Child Care Centre  Central East Region  Regional Municipality of Durham   \n3  Child Care Centre          West Region  Regional Municipality of Halton   \n4  Child Care Centre     Southwest Region                City of Stratford   \n\n                          Child Care Center Name Licence Number  \\\n0               Creative Minds Children Services        0006463   \n1           Creative Minds children services inc          56690   \n2           Durham Montessori School and Daycare          57087   \n3             Western Heights Montessori Academy          57245   \n4  1.2.3. LOOK AT ME CO-OPERATIVE NURSERY SCHOOL          14085   \n\n                         Program Option Original Issue Date Licence Status  \\\n0    Full Day(6 hours or more in a day)          2013-04-15       Inactive   \n1    Full Day(6 hours or more in a day)          2016-11-24         Active   \n2    Full Day(6 hours or more in a day)          2018-01-08         Active   \n3    Full Day(6 hours or more in a day)          2018-08-10         Active   \n4  Half day(Less than 6 hours in a day)          1991-12-05         Active   \n\n  Closure or Termination Date Language of Service Desc Street Number  \\\n0                         NaT                  English            61   \n1                         NaT                  English             5   \n2                         NaT                  English           200   \n3                         NaT          English, French           186   \n4                         NaT                  English           465   \n\n   Street Name Street Type           City Province Postal Code  \n0     Sherwood       Drive      Brantford       ON     N3T 1N7  \n1         wade      Avenue  Brantford, On       ON     N3T 1W8  \n2        Byron      Street         Whitby       ON     L1N 4P6  \n3  Morrison Rd         NaN       Oakville       ON     L4J 4J4  \n4     Maitland      Avenue       Listowel       ON     N4W 2M7  "
                    },
                    "execution_count": 56,
                    "metadata": {},
                    "output_type": "execute_result"
                }
            ],
            "source": "# Dropping unnecessary columns\nprov_df.drop(['Report Snapshot Date', 'Licensee Name', 'Licence Number', \"Original Issue Date\", \"Closure or Termination Date\"], axis=1)\nprov_df.head()"
        },
        {
            "cell_type": "code",
            "execution_count": null,
            "metadata": {},
            "outputs": [],
            "source": ""
        }
    ],
    "metadata": {
        "kernelspec": {
            "display_name": "Python 3.6",
            "language": "python",
            "name": "python3"
        },
        "language_info": {
            "codemirror_mode": {
                "name": "ipython",
                "version": 3
            },
            "file_extension": ".py",
            "mimetype": "text/x-python",
            "name": "python",
            "nbconvert_exporter": "python",
            "pygments_lexer": "ipython3",
            "version": "3.6.9"
        }
    },
    "nbformat": 4,
    "nbformat_minor": 1
}