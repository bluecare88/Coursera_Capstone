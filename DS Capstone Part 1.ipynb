{
    "cells": [
        {
            "cell_type": "markdown",
            "metadata": {
                "collapsed": true
            },
            "source": "# Early Childhood Care Selection in the Grand Toronto Area"
        },
        {
            "cell_type": "markdown",
            "metadata": {},
            "source": "## Introduction"
        },
        {
            "cell_type": "markdown",
            "metadata": {},
            "source": "This project was motivated by my personal struggles as a young working mother looking for child care options for her one year old in a pre-pandemic world.\n\nThe purpose of the project is to help young families moving into York Region of Ontario, Ontario in exploring and much better informed options for early learning and chicld care. My project aims to create an analysys of comprehensive features around child care for families coming to the region from within or outside Canada, in order to help them make smart and efficient decision on what's best for them and their young family members."
        },
        {
            "cell_type": "markdown",
            "metadata": {},
            "source": "## Business problem"
        },
        {
            "cell_type": "markdown",
            "metadata": {},
            "source": "As I mentioned above, the reasoning behind me choosing this subject to explore and analyze was my personal experience. My husband and I deceided to move to Markham, Ontario from another city in the province while I was still pregnant so that we have time- pre baby- to find the necessary facilities, services, amneties and know our soroundings before the the baby comes. As we are working parents with no grandparents to pitch in, we knew that once my maternity leave ended we had to have a plan in terms of child care. We found it insanely difficult to find and choose, more so that thh waiting lists are very long.\n\nWhile York Region, of which the city of Markham is part, has a very comprehensive website and resource list, everything is very static and time consuming and quite some extensive analysis had to be done to find a list of child care options for our child in a prepandemic world. It was very hard to find information on daycare and other child care options in the city in such a way that it makes the decision process easy, efficent and result driven. \n\nThe main aim of my project analysis is to help the decision makin process  less stressful and easier by providing a comprehensive, easy to follow list of child care options in Markham Ontario, that can be used by new families either already living in the city or just moving in the city. The end result will need to have details on  learning and care options, ratings, locations, reviews, programs included and fees, other amneties and dependencies. "
        },
        {
            "cell_type": "markdown",
            "metadata": {},
            "source": "## Data "
        },
        {
            "cell_type": "markdown",
            "metadata": {},
            "source": "In order to achive the desired result, this project will use data from various sources. The main data sources will be:\n 1. Wikipedia list of Postal Codes in Canada, in order to identify cites and neighbourhoods in the Grand Toronto Area https://en.wikipedia.org/wiki/List_of_postal_codes_of_Canada:_M\n 2. Geographical coordinates from  http://cocl.us/Geospatial_data in order to find specific location of each city and neighbourhood\n 3. Foursquare API for data on child care locations and facilities \n \n Secondary datasets will be used and partially scraped:\n 1. Provincial data on child care options in the province of Ontario : https://data.ontario.ca/dataset/licensed-child-care-facilities-in-ontario\n 2. National  data on child care options: https://www150.statcan.gc.ca/n1/pub/11f0019m/11f0019m2006284-eng.pdf\n 3. City data on child care options : https://www.york.ca/wps/portal/yorkhome/yorkregion/yr/statisticsanddata/opendata/opendata/!ut/p/z1/jZDBTsMwDIafhUOP1F5Z18AtFEHabioXtJALyrYsLeqSKg2rxNMTDS4g6PDJtr7f9m8QwEEYeWy19K01sgv1s1i8FPShYKzCsp6THCnWtEwygqTKYH0C8I-gCOI_-glATI8vzy0IDhK3ylcaRC99c9mavQU--OBw8O12kGa3k14Ct70yP7I1iNP4JJkv2CzHEllNsLjPHtM7wmaYp2eAKvkCph3ozm4-n03N5oqEU53aK6dc_OZCu_G-H24ijHAcx1hbqzsVb-0hwt8kjR088O8k9Icn_r68vS5e0-64pBcfU9I1RA!!/dz/d5/L2dBISEvZ0FBIS9nQSEh/#.X5bHtYhKg2w "
        }
    ],
    "metadata": {
        "kernelspec": {
            "display_name": "Python 3.7",
            "language": "python",
            "name": "python3"
        },
        "language_info": {
            "codemirror_mode": {
                "name": "ipython",
                "version": 3
            },
            "file_extension": ".py",
            "mimetype": "text/x-python",
            "name": "python",
            "nbconvert_exporter": "python",
            "pygments_lexer": "ipython3",
            "version": "3.7.9"
        }
    },
    "nbformat": 4,
    "nbformat_minor": 1
}